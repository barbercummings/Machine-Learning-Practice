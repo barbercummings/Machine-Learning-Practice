{
 "cells": [
  {
   "cell_type": "code",
   "execution_count": 1,
   "metadata": {},
   "outputs": [
    {
     "name": "stdout",
     "output_type": "stream",
     "text": [
      "C:\\Users\\barbe\\AppData\\Local\\Continuum\\anaconda3\\envs\\deep_learning\\python.exe\n",
      "C:\\Users\\barbe\\AppData\\Local\\Continuum\\anaconda3\\python.exe\n"
     ]
    }
   ],
   "source": [
    "# Artificial Neural Network\n",
    "\n",
    "# !Keras --version\n",
    "# !pip freeze\n",
    "!where python"
   ]
  },
  {
   "cell_type": "code",
   "execution_count": 2,
   "metadata": {},
   "outputs": [
    {
     "name": "stderr",
     "output_type": "stream",
     "text": [
      "Using TensorFlow backend.\n"
     ]
    }
   ],
   "source": [
    "# Importing Libraries\n",
    "# !pip install keras\n",
    "import numpy as np\n",
    "import matplotlib.pyplot as plt\n",
    "import pandas as pd\n",
    "import keras"
   ]
  },
  {
   "cell_type": "code",
   "execution_count": 3,
   "metadata": {},
   "outputs": [],
   "source": [
    "# Importing the dataset\n",
    "dataset = pd.read_csv('Churn_Modelling.csv')\n",
    "\n",
    "X = dataset.iloc[:, 3:13].values # X must be a matrix\n",
    "y = dataset.iloc[:, 13].values # y must be a vector"
   ]
  },
  {
   "cell_type": "code",
   "execution_count": 4,
   "metadata": {},
   "outputs": [
    {
     "name": "stderr",
     "output_type": "stream",
     "text": [
      "C:\\Users\\barbe\\AppData\\Local\\Continuum\\anaconda3\\envs\\deep_learning\\lib\\site-packages\\sklearn\\preprocessing\\_encoders.py:415: FutureWarning: The handling of integer data will change in version 0.22. Currently, the categories are determined based on the range [0, max(values)], while in the future they will be determined based on the unique values.\n",
      "If you want the future behaviour and silence this warning, you can specify \"categories='auto'\".\n",
      "In case you used a LabelEncoder before this OneHotEncoder to convert the categories to integers, then you can now use the OneHotEncoder directly.\n",
      "  warnings.warn(msg, FutureWarning)\n",
      "C:\\Users\\barbe\\AppData\\Local\\Continuum\\anaconda3\\envs\\deep_learning\\lib\\site-packages\\sklearn\\preprocessing\\_encoders.py:451: DeprecationWarning: The 'categorical_features' keyword is deprecated in version 0.20 and will be removed in 0.22. You can use the ColumnTransformer instead.\n",
      "  \"use the ColumnTransformer instead.\", DeprecationWarning)\n"
     ]
    }
   ],
   "source": [
    "# Encoding categorical data\n",
    "from sklearn.preprocessing import LabelEncoder, OneHotEncoder\n",
    "labelencoder_X_1 = LabelEncoder()\n",
    "X[:, 1] = labelencoder_X_1.fit_transform(X[:, 1])\n",
    "labelencoder_X_2 = LabelEncoder()\n",
    "X[:, 2] = labelencoder_X_2.fit_transform(X[:, 2])\n",
    "onehotencoder = OneHotEncoder(categorical_features = [1])\n",
    "X = onehotencoder.fit_transform(X).toarray()\n",
    "X = X[:, 1:]"
   ]
  },
  {
   "cell_type": "code",
   "execution_count": 5,
   "metadata": {},
   "outputs": [
    {
     "data": {
      "text/plain": [
       "array([[0.0000000e+00, 0.0000000e+00, 6.1900000e+02, ..., 1.0000000e+00,\n",
       "        1.0000000e+00, 1.0134888e+05],\n",
       "       [0.0000000e+00, 1.0000000e+00, 6.0800000e+02, ..., 0.0000000e+00,\n",
       "        1.0000000e+00, 1.1254258e+05],\n",
       "       [0.0000000e+00, 0.0000000e+00, 5.0200000e+02, ..., 1.0000000e+00,\n",
       "        0.0000000e+00, 1.1393157e+05],\n",
       "       ...,\n",
       "       [0.0000000e+00, 0.0000000e+00, 7.0900000e+02, ..., 0.0000000e+00,\n",
       "        1.0000000e+00, 4.2085580e+04],\n",
       "       [1.0000000e+00, 0.0000000e+00, 7.7200000e+02, ..., 1.0000000e+00,\n",
       "        0.0000000e+00, 9.2888520e+04],\n",
       "       [0.0000000e+00, 0.0000000e+00, 7.9200000e+02, ..., 1.0000000e+00,\n",
       "        0.0000000e+00, 3.8190780e+04]])"
      ]
     },
     "execution_count": 5,
     "metadata": {},
     "output_type": "execute_result"
    }
   ],
   "source": [
    "X"
   ]
  },
  {
   "cell_type": "code",
   "execution_count": 6,
   "metadata": {},
   "outputs": [],
   "source": [
    "# Splitting into training and test sets\n",
    "# Use for larger data sets\n",
    "from sklearn.model_selection import train_test_split\n",
    "X_train, X_test, y_train, y_test = train_test_split(X, y, test_size = .2, random_state = 0)"
   ]
  },
  {
   "cell_type": "code",
   "execution_count": 7,
   "metadata": {},
   "outputs": [],
   "source": [
    "# feature scaling\n",
    "from sklearn.preprocessing import StandardScaler\n",
    "sc_X = StandardScaler()\n",
    "X_train = sc_X.fit_transform(X_train)\n",
    "X_test = sc_X.transform(X_test)"
   ]
  },
  {
   "cell_type": "code",
   "execution_count": 8,
   "metadata": {},
   "outputs": [],
   "source": [
    "# Importing the Keras libraries and packages\n",
    "import keras\n",
    "from keras.models import Sequential\n",
    "from keras.layers import Dense"
   ]
  },
  {
   "cell_type": "code",
   "execution_count": 9,
   "metadata": {},
   "outputs": [
    {
     "name": "stderr",
     "output_type": "stream",
     "text": [
      "WARNING: Logging before flag parsing goes to stderr.\n",
      "W0820 14:27:21.490390 12132 deprecation_wrapper.py:119] From C:\\Users\\barbe\\AppData\\Local\\Continuum\\anaconda3\\envs\\deep_learning\\lib\\site-packages\\keras\\backend\\tensorflow_backend.py:74: The name tf.get_default_graph is deprecated. Please use tf.compat.v1.get_default_graph instead.\n",
      "\n"
     ]
    }
   ],
   "source": [
    "# Initializing the ANN\n",
    "# Create your classifier here\n",
    "classifier = Sequential()"
   ]
  },
  {
   "cell_type": "code",
   "execution_count": 10,
   "metadata": {},
   "outputs": [
    {
     "name": "stderr",
     "output_type": "stream",
     "text": [
      "C:\\Users\\barbe\\AppData\\Local\\Continuum\\anaconda3\\envs\\deep_learning\\lib\\site-packages\\ipykernel_launcher.py:5: UserWarning: Update your `Dense` call to the Keras 2 API: `Dense(units=6, activation=\"relu\", input_dim=11, kernel_initializer=\"uniform\")`\n",
      "  \"\"\"\n",
      "W0820 14:27:21.529358 12132 deprecation_wrapper.py:119] From C:\\Users\\barbe\\AppData\\Local\\Continuum\\anaconda3\\envs\\deep_learning\\lib\\site-packages\\keras\\backend\\tensorflow_backend.py:517: The name tf.placeholder is deprecated. Please use tf.compat.v1.placeholder instead.\n",
      "\n",
      "W0820 14:27:21.538558 12132 deprecation_wrapper.py:119] From C:\\Users\\barbe\\AppData\\Local\\Continuum\\anaconda3\\envs\\deep_learning\\lib\\site-packages\\keras\\backend\\tensorflow_backend.py:4138: The name tf.random_uniform is deprecated. Please use tf.random.uniform instead.\n",
      "\n"
     ]
    }
   ],
   "source": [
    "# Adding the input layer and the first hidden layer\n",
    "# output dim calculated by averagin the number of ind var (11) with output (1)\n",
    "# relu for rectifier activation function\n",
    "# input_dim is number of nodes (ind variables), it is a compulsary parameter\n",
    "classifier.add(Dense(units = 6, init = 'uniform', activation = 'relu', input_dim = 11 ))"
   ]
  },
  {
   "cell_type": "code",
   "execution_count": 11,
   "metadata": {},
   "outputs": [
    {
     "name": "stderr",
     "output_type": "stream",
     "text": [
      "C:\\Users\\barbe\\AppData\\Local\\Continuum\\anaconda3\\envs\\deep_learning\\lib\\site-packages\\ipykernel_launcher.py:3: UserWarning: Update your `Dense` call to the Keras 2 API: `Dense(units=6, activation=\"relu\", kernel_initializer=\"uniform\")`\n",
      "  This is separate from the ipykernel package so we can avoid doing imports until\n"
     ]
    }
   ],
   "source": [
    "# Adding the second hidden layer\n",
    "# do not need to specify input parameter because second layer knows from first\n",
    "classifier.add(Dense(units = 6, init = 'uniform', activation = 'relu'))"
   ]
  },
  {
   "cell_type": "code",
   "execution_count": 12,
   "metadata": {},
   "outputs": [
    {
     "name": "stderr",
     "output_type": "stream",
     "text": [
      "C:\\Users\\barbe\\AppData\\Local\\Continuum\\anaconda3\\envs\\deep_learning\\lib\\site-packages\\ipykernel_launcher.py:5: UserWarning: Update your `Dense` call to the Keras 2 API: `Dense(units=1, activation=\"sigmoid\", kernel_initializer=\"uniform\")`\n",
      "  \"\"\"\n"
     ]
    }
   ],
   "source": [
    "# Adding the output layer\n",
    "# output_dim because our dependent variable is one (binary is essentially 1 output)\n",
    "# using sigmoid function instead of rectifier function for output layer\n",
    "# if more than one dependent variable (not binary) use 'softmax' instead of sigmoid\n",
    "classifier.add(Dense(units = 1, init = 'uniform', activation = 'sigmoid'))"
   ]
  },
  {
   "cell_type": "code",
   "execution_count": 13,
   "metadata": {},
   "outputs": [
    {
     "name": "stderr",
     "output_type": "stream",
     "text": [
      "W0820 14:27:21.589366 12132 deprecation_wrapper.py:119] From C:\\Users\\barbe\\AppData\\Local\\Continuum\\anaconda3\\envs\\deep_learning\\lib\\site-packages\\keras\\optimizers.py:790: The name tf.train.Optimizer is deprecated. Please use tf.compat.v1.train.Optimizer instead.\n",
      "\n",
      "W0820 14:27:21.605323 12132 deprecation_wrapper.py:119] From C:\\Users\\barbe\\AppData\\Local\\Continuum\\anaconda3\\envs\\deep_learning\\lib\\site-packages\\keras\\backend\\tensorflow_backend.py:3376: The name tf.log is deprecated. Please use tf.math.log instead.\n",
      "\n",
      "W0820 14:27:21.610310 12132 deprecation.py:323] From C:\\Users\\barbe\\AppData\\Local\\Continuum\\anaconda3\\envs\\deep_learning\\lib\\site-packages\\tensorflow\\python\\ops\\nn_impl.py:180: add_dispatch_support.<locals>.wrapper (from tensorflow.python.ops.array_ops) is deprecated and will be removed in a future version.\n",
      "Instructions for updating:\n",
      "Use tf.where in 2.0, which has the same broadcast rule as np.where\n"
     ]
    }
   ],
   "source": [
    "# Compiling the ANN\n",
    "# optimizer parameter is algorithm to optimize number of weights, a good one is adam\n",
    "# loss function is sum of difference of squares in errors between real values and regresion prediciton\n",
    "# logarithmic loss for sigmoid function as it is basically just logisitic regression\n",
    "# logarithmic loss function is called 'binary_crossentropy'\n",
    "classifier.compile(optimizer = 'adam', loss = 'binary_crossentropy', metrics = ['accuracy'] )"
   ]
  },
  {
   "cell_type": "code",
   "execution_count": 14,
   "metadata": {},
   "outputs": [
    {
     "name": "stderr",
     "output_type": "stream",
     "text": [
      "W0820 14:27:21.791353 12132 deprecation_wrapper.py:119] From C:\\Users\\barbe\\AppData\\Local\\Continuum\\anaconda3\\envs\\deep_learning\\lib\\site-packages\\keras\\backend\\tensorflow_backend.py:986: The name tf.assign_add is deprecated. Please use tf.compat.v1.assign_add instead.\n",
      "\n"
     ]
    },
    {
     "name": "stdout",
     "output_type": "stream",
     "text": [
      "Epoch 1/100\n",
      "8000/8000 [==============================] - 1s 107us/step - loss: 0.4926 - acc: 0.7959\n",
      "Epoch 2/100\n",
      "8000/8000 [==============================] - 1s 71us/step - loss: 0.4298 - acc: 0.7960\n",
      "Epoch 3/100\n",
      "8000/8000 [==============================] - 1s 69us/step - loss: 0.4249 - acc: 0.7960\n",
      "Epoch 4/100\n",
      "8000/8000 [==============================] - 1s 69us/step - loss: 0.4209 - acc: 0.8059\n",
      "Epoch 5/100\n",
      "8000/8000 [==============================] - 1s 71us/step - loss: 0.4182 - acc: 0.8229\n",
      "Epoch 6/100\n",
      "8000/8000 [==============================] - 1s 68us/step - loss: 0.4157 - acc: 0.8277\n",
      "Epoch 7/100\n",
      "8000/8000 [==============================] - 1s 67us/step - loss: 0.4143 - acc: 0.8286\n",
      "Epoch 8/100\n",
      "8000/8000 [==============================] - 1s 69us/step - loss: 0.4136 - acc: 0.8299\n",
      "Epoch 9/100\n",
      "8000/8000 [==============================] - 1s 69us/step - loss: 0.4116 - acc: 0.8320\n",
      "Epoch 10/100\n",
      "8000/8000 [==============================] - 1s 67us/step - loss: 0.4109 - acc: 0.8329\n",
      "Epoch 11/100\n",
      "8000/8000 [==============================] - 1s 67us/step - loss: 0.4098 - acc: 0.8326\n",
      "Epoch 12/100\n",
      "8000/8000 [==============================] - 1s 70us/step - loss: 0.4091 - acc: 0.8342\n",
      "Epoch 13/100\n",
      "8000/8000 [==============================] - 1s 69us/step - loss: 0.4086 - acc: 0.8337\n",
      "Epoch 14/100\n",
      "8000/8000 [==============================] - 1s 67us/step - loss: 0.4075 - acc: 0.8326\n",
      "Epoch 15/100\n",
      "8000/8000 [==============================] - 1s 72us/step - loss: 0.4069 - acc: 0.8336\n",
      "Epoch 16/100\n",
      "8000/8000 [==============================] - 1s 68us/step - loss: 0.4064 - acc: 0.8342\n",
      "Epoch 17/100\n",
      "8000/8000 [==============================] - 1s 71us/step - loss: 0.4059 - acc: 0.8337\n",
      "Epoch 18/100\n",
      "8000/8000 [==============================] - 1s 69us/step - loss: 0.4059 - acc: 0.8350\n",
      "Epoch 19/100\n",
      "8000/8000 [==============================] - 1s 69us/step - loss: 0.4054 - acc: 0.8350\n",
      "Epoch 20/100\n",
      "8000/8000 [==============================] - 1s 71us/step - loss: 0.4050 - acc: 0.8341\n",
      "Epoch 21/100\n",
      "8000/8000 [==============================] - 1s 69us/step - loss: 0.4049 - acc: 0.8347\n",
      "Epoch 22/100\n",
      "8000/8000 [==============================] - 1s 68us/step - loss: 0.4043 - acc: 0.8347\n",
      "Epoch 23/100\n",
      "8000/8000 [==============================] - 1s 67us/step - loss: 0.4043 - acc: 0.8341\n",
      "Epoch 24/100\n",
      "8000/8000 [==============================] - 1s 70us/step - loss: 0.4038 - acc: 0.8347\n",
      "Epoch 25/100\n",
      "8000/8000 [==============================] - 1s 67us/step - loss: 0.4041 - acc: 0.8349\n",
      "Epoch 26/100\n",
      "8000/8000 [==============================] - 1s 68us/step - loss: 0.4034 - acc: 0.8346\n",
      "Epoch 27/100\n",
      "8000/8000 [==============================] - 1s 67us/step - loss: 0.4034 - acc: 0.8357\n",
      "Epoch 28/100\n",
      "8000/8000 [==============================] - 1s 68us/step - loss: 0.4032 - acc: 0.8355\n",
      "Epoch 29/100\n",
      "8000/8000 [==============================] - 1s 72us/step - loss: 0.4035 - acc: 0.8329\n",
      "Epoch 30/100\n",
      "8000/8000 [==============================] - 1s 71us/step - loss: 0.4030 - acc: 0.8349\n",
      "Epoch 31/100\n",
      "8000/8000 [==============================] - 1s 68us/step - loss: 0.4032 - acc: 0.8349\n",
      "Epoch 32/100\n",
      "8000/8000 [==============================] - 1s 69us/step - loss: 0.4027 - acc: 0.8347\n",
      "Epoch 33/100\n",
      "8000/8000 [==============================] - 1s 71us/step - loss: 0.4031 - acc: 0.8349\n",
      "Epoch 34/100\n",
      "8000/8000 [==============================] - 1s 71us/step - loss: 0.4027 - acc: 0.8361\n",
      "Epoch 35/100\n",
      "8000/8000 [==============================] - 1s 70us/step - loss: 0.4030 - acc: 0.8346\n",
      "Epoch 36/100\n",
      "8000/8000 [==============================] - 1s 71us/step - loss: 0.4024 - acc: 0.8339\n",
      "Epoch 37/100\n",
      "8000/8000 [==============================] - 1s 71us/step - loss: 0.4027 - acc: 0.8350\n",
      "Epoch 38/100\n",
      "8000/8000 [==============================] - 1s 70us/step - loss: 0.4025 - acc: 0.8352\n",
      "Epoch 39/100\n",
      "8000/8000 [==============================] - 1s 71us/step - loss: 0.4026 - acc: 0.8345\n",
      "Epoch 40/100\n",
      "8000/8000 [==============================] - 1s 71us/step - loss: 0.4024 - acc: 0.8337\n",
      "Epoch 41/100\n",
      "8000/8000 [==============================] - 1s 68us/step - loss: 0.4028 - acc: 0.8357\n",
      "Epoch 42/100\n",
      "8000/8000 [==============================] - 1s 67us/step - loss: 0.4023 - acc: 0.8356\n",
      "Epoch 43/100\n",
      "8000/8000 [==============================] - 1s 67us/step - loss: 0.4018 - acc: 0.8345\n",
      "Epoch 44/100\n",
      "8000/8000 [==============================] - 1s 68us/step - loss: 0.4022 - acc: 0.8334\n",
      "Epoch 45/100\n",
      "8000/8000 [==============================] - 1s 69us/step - loss: 0.4026 - acc: 0.8339\n",
      "Epoch 46/100\n",
      "8000/8000 [==============================] - 1s 68us/step - loss: 0.4025 - acc: 0.8346\n",
      "Epoch 47/100\n",
      "8000/8000 [==============================] - 1s 69us/step - loss: 0.4018 - acc: 0.8359\n",
      "Epoch 48/100\n",
      "8000/8000 [==============================] - 1s 70us/step - loss: 0.4021 - acc: 0.8346\n",
      "Epoch 49/100\n",
      "8000/8000 [==============================] - 1s 69us/step - loss: 0.4021 - acc: 0.8355\n",
      "Epoch 50/100\n",
      "8000/8000 [==============================] - 1s 68us/step - loss: 0.4025 - acc: 0.8336\n",
      "Epoch 51/100\n",
      "8000/8000 [==============================] - 1s 66us/step - loss: 0.4019 - acc: 0.8344\n",
      "Epoch 52/100\n",
      "8000/8000 [==============================] - 1s 67us/step - loss: 0.4023 - acc: 0.8339\n",
      "Epoch 53/100\n",
      "8000/8000 [==============================] - 1s 72us/step - loss: 0.4018 - acc: 0.8351\n",
      "Epoch 54/100\n",
      "8000/8000 [==============================] - 1s 71us/step - loss: 0.4018 - acc: 0.8351\n",
      "Epoch 55/100\n",
      "8000/8000 [==============================] - 1s 67us/step - loss: 0.4019 - acc: 0.8341\n",
      "Epoch 56/100\n",
      "8000/8000 [==============================] - 1s 68us/step - loss: 0.4022 - acc: 0.8349\n",
      "Epoch 57/100\n",
      "8000/8000 [==============================] - 1s 67us/step - loss: 0.4018 - acc: 0.8332\n",
      "Epoch 58/100\n",
      "8000/8000 [==============================] - 1s 68us/step - loss: 0.4020 - acc: 0.8340\n",
      "Epoch 59/100\n",
      "8000/8000 [==============================] - 1s 67us/step - loss: 0.4020 - acc: 0.8336\n",
      "Epoch 60/100\n",
      "8000/8000 [==============================] - 1s 67us/step - loss: 0.4015 - acc: 0.8351\n",
      "Epoch 61/100\n",
      "8000/8000 [==============================] - 1s 67us/step - loss: 0.4022 - acc: 0.8327\n",
      "Epoch 62/100\n",
      "8000/8000 [==============================] - 1s 70us/step - loss: 0.4018 - acc: 0.8334\n",
      "Epoch 63/100\n",
      "8000/8000 [==============================] - 1s 71us/step - loss: 0.4018 - acc: 0.8344\n",
      "Epoch 64/100\n",
      "8000/8000 [==============================] - 1s 70us/step - loss: 0.4021 - acc: 0.8350\n",
      "Epoch 65/100\n",
      "8000/8000 [==============================] - 1s 69us/step - loss: 0.4021 - acc: 0.8329\n",
      "Epoch 66/100\n",
      "8000/8000 [==============================] - 1s 69us/step - loss: 0.4018 - acc: 0.8345\n",
      "Epoch 67/100\n",
      "8000/8000 [==============================] - 1s 69us/step - loss: 0.4018 - acc: 0.8339\n",
      "Epoch 68/100\n",
      "8000/8000 [==============================] - 1s 71us/step - loss: 0.4014 - acc: 0.8334\n",
      "Epoch 69/100\n",
      "8000/8000 [==============================] - 1s 71us/step - loss: 0.4015 - acc: 0.8325\n",
      "Epoch 70/100\n",
      "8000/8000 [==============================] - 1s 68us/step - loss: 0.4018 - acc: 0.8346\n",
      "Epoch 71/100\n",
      "8000/8000 [==============================] - 1s 66us/step - loss: 0.4015 - acc: 0.8341\n",
      "Epoch 72/100\n",
      "8000/8000 [==============================] - 1s 70us/step - loss: 0.4016 - acc: 0.8349\n",
      "Epoch 73/100\n",
      "8000/8000 [==============================] - 1s 71us/step - loss: 0.4020 - acc: 0.8345\n",
      "Epoch 74/100\n",
      "8000/8000 [==============================] - 1s 70us/step - loss: 0.4014 - acc: 0.8351\n",
      "Epoch 75/100\n",
      "8000/8000 [==============================] - 1s 67us/step - loss: 0.4020 - acc: 0.8351\n",
      "Epoch 76/100\n",
      "8000/8000 [==============================] - 1s 70us/step - loss: 0.4016 - acc: 0.8347\n",
      "Epoch 77/100\n",
      "8000/8000 [==============================] - 1s 71us/step - loss: 0.4015 - acc: 0.8344\n",
      "Epoch 78/100\n",
      "8000/8000 [==============================] - 1s 71us/step - loss: 0.4018 - acc: 0.8341\n",
      "Epoch 79/100\n",
      "8000/8000 [==============================] - 1s 69us/step - loss: 0.4017 - acc: 0.8341\n",
      "Epoch 80/100\n",
      "8000/8000 [==============================] - 1s 71us/step - loss: 0.4019 - acc: 0.8349\n",
      "Epoch 81/100\n",
      "8000/8000 [==============================] - 1s 70us/step - loss: 0.4016 - acc: 0.8326\n",
      "Epoch 82/100\n",
      "8000/8000 [==============================] - 1s 68us/step - loss: 0.4014 - acc: 0.8340\n",
      "Epoch 83/100\n"
     ]
    },
    {
     "name": "stdout",
     "output_type": "stream",
     "text": [
      "8000/8000 [==============================] - 1s 71us/step - loss: 0.4017 - acc: 0.8342\n",
      "Epoch 84/100\n",
      "8000/8000 [==============================] - 1s 71us/step - loss: 0.4014 - acc: 0.8336\n",
      "Epoch 85/100\n",
      "8000/8000 [==============================] - 1s 68us/step - loss: 0.4016 - acc: 0.8331\n",
      "Epoch 86/100\n",
      "8000/8000 [==============================] - 1s 70us/step - loss: 0.4017 - acc: 0.8336\n",
      "Epoch 87/100\n",
      "8000/8000 [==============================] - 1s 71us/step - loss: 0.4016 - acc: 0.8340\n",
      "Epoch 88/100\n",
      "8000/8000 [==============================] - 1s 71us/step - loss: 0.4016 - acc: 0.8339\n",
      "Epoch 89/100\n",
      "8000/8000 [==============================] - 1s 68us/step - loss: 0.4017 - acc: 0.8341\n",
      "Epoch 90/100\n",
      "8000/8000 [==============================] - 1s 71us/step - loss: 0.4016 - acc: 0.8340\n",
      "Epoch 91/100\n",
      "8000/8000 [==============================] - 1s 71us/step - loss: 0.4016 - acc: 0.8336\n",
      "Epoch 92/100\n",
      "8000/8000 [==============================] - 1s 69us/step - loss: 0.4010 - acc: 0.8335\n",
      "Epoch 93/100\n",
      "8000/8000 [==============================] - 1s 70us/step - loss: 0.4014 - acc: 0.8342\n",
      "Epoch 94/100\n",
      "8000/8000 [==============================] - 1s 72us/step - loss: 0.4014 - acc: 0.8337\n",
      "Epoch 95/100\n",
      "8000/8000 [==============================] - 1s 67us/step - loss: 0.4017 - acc: 0.8344\n",
      "Epoch 96/100\n",
      "8000/8000 [==============================] - 1s 71us/step - loss: 0.4012 - acc: 0.8350\n",
      "Epoch 97/100\n",
      "8000/8000 [==============================] - 1s 69us/step - loss: 0.4011 - acc: 0.8345\n",
      "Epoch 98/100\n",
      "8000/8000 [==============================] - 1s 67us/step - loss: 0.4011 - acc: 0.8347\n",
      "Epoch 99/100\n",
      "8000/8000 [==============================] - 1s 71us/step - loss: 0.4013 - acc: 0.8350\n",
      "Epoch 100/100\n",
      "8000/8000 [==============================] - 1s 69us/step - loss: 0.4011 - acc: 0.8351\n"
     ]
    },
    {
     "data": {
      "text/plain": [
       "<keras.callbacks.History at 0x23da719cdd8>"
      ]
     },
     "execution_count": 14,
     "metadata": {},
     "output_type": "execute_result"
    }
   ],
   "source": [
    "# Fitting the ANN classifier to the Training Set\n",
    "# batch size is number of observations after which you want to update your weights\n",
    "# number of epochs is how many times we want to go through the process of running through the layers\n",
    "# and then backpropigating to adjust weight\n",
    "# randomly choosing batch_size and nb_epoch with 10 and 100\n",
    "classifier.fit(X_train, y_train, batch_size = 10, epochs = 100)"
   ]
  },
  {
   "cell_type": "code",
   "execution_count": 15,
   "metadata": {},
   "outputs": [],
   "source": [
    "# predicting the Test set Results\n",
    "y_pred = classifier.predict(X_test)"
   ]
  },
  {
   "cell_type": "code",
   "execution_count": 16,
   "metadata": {},
   "outputs": [
    {
     "data": {
      "text/plain": [
       "array([[0.2644753 ],\n",
       "       [0.35034236],\n",
       "       [0.22737962],\n",
       "       ...,\n",
       "       [0.19800773],\n",
       "       [0.18726099],\n",
       "       [0.1567316 ]], dtype=float32)"
      ]
     },
     "execution_count": 16,
     "metadata": {},
     "output_type": "execute_result"
    }
   ],
   "source": [
    "# Show predicted probabilities of customers leaving bank\n",
    "y_pred"
   ]
  },
  {
   "cell_type": "code",
   "execution_count": 17,
   "metadata": {},
   "outputs": [],
   "source": [
    "# convert array of probabilities into true if greater than .5 and false otherwise\n",
    "y_pred = (y_pred > .5)"
   ]
  },
  {
   "cell_type": "code",
   "execution_count": 18,
   "metadata": {},
   "outputs": [
    {
     "data": {
      "text/plain": [
       "array([[False],\n",
       "       [False],\n",
       "       [False],\n",
       "       ...,\n",
       "       [False],\n",
       "       [False],\n",
       "       [False]])"
      ]
     },
     "execution_count": 18,
     "metadata": {},
     "output_type": "execute_result"
    }
   ],
   "source": [
    "y_pred"
   ]
  },
  {
   "cell_type": "code",
   "execution_count": 19,
   "metadata": {},
   "outputs": [
    {
     "data": {
      "text/plain": [
       "array([0, 1, 0, ..., 0, 0, 0], dtype=int64)"
      ]
     },
     "execution_count": 19,
     "metadata": {},
     "output_type": "execute_result"
    }
   ],
   "source": [
    "# Show real results of which customers actually left\n",
    "y_test"
   ]
  },
  {
   "cell_type": "code",
   "execution_count": 20,
   "metadata": {},
   "outputs": [
    {
     "data": {
      "text/plain": [
       "array([[1542,   53],\n",
       "       [ 257,  148]], dtype=int64)"
      ]
     },
     "execution_count": 20,
     "metadata": {},
     "output_type": "execute_result"
    }
   ],
   "source": [
    "# Making the Confusion Matrix\n",
    "from sklearn.metrics import confusion_matrix\n",
    "cm = confusion_matrix(y_test, y_pred)\n",
    "cm"
   ]
  },
  {
   "cell_type": "code",
   "execution_count": 21,
   "metadata": {},
   "outputs": [
    {
     "data": {
      "text/plain": [
       "0.843"
      ]
     },
     "execution_count": 21,
     "metadata": {},
     "output_type": "execute_result"
    }
   ],
   "source": [
    "accuracy = (1530+156)/(2000)\n",
    "accuracy"
   ]
  }
 ],
 "metadata": {
  "kernelspec": {
   "display_name": "Python (ml)",
   "language": "python",
   "name": "deep_learning2"
  },
  "language_info": {
   "codemirror_mode": {
    "name": "ipython",
    "version": 3
   },
   "file_extension": ".py",
   "mimetype": "text/x-python",
   "name": "python",
   "nbconvert_exporter": "python",
   "pygments_lexer": "ipython3",
   "version": "3.7.3"
  }
 },
 "nbformat": 4,
 "nbformat_minor": 2
}
