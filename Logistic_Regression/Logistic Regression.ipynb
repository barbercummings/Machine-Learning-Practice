{
 "cells": [
  {
   "cell_type": "code",
   "execution_count": 1,
   "metadata": {},
   "outputs": [
    {
     "data": {
      "text/html": [
       "<div>\n",
       "<style scoped>\n",
       "    .dataframe tbody tr th:only-of-type {\n",
       "        vertical-align: middle;\n",
       "    }\n",
       "\n",
       "    .dataframe tbody tr th {\n",
       "        vertical-align: top;\n",
       "    }\n",
       "\n",
       "    .dataframe thead th {\n",
       "        text-align: right;\n",
       "    }\n",
       "</style>\n",
       "<table border=\"1\" class=\"dataframe\">\n",
       "  <thead>\n",
       "    <tr style=\"text-align: right;\">\n",
       "      <th></th>\n",
       "      <th>User ID</th>\n",
       "      <th>Gender</th>\n",
       "      <th>Age</th>\n",
       "      <th>EstimatedSalary</th>\n",
       "      <th>Purchased</th>\n",
       "    </tr>\n",
       "  </thead>\n",
       "  <tbody>\n",
       "    <tr>\n",
       "      <th>0</th>\n",
       "      <td>15624510</td>\n",
       "      <td>Male</td>\n",
       "      <td>19</td>\n",
       "      <td>19000</td>\n",
       "      <td>0</td>\n",
       "    </tr>\n",
       "    <tr>\n",
       "      <th>1</th>\n",
       "      <td>15810944</td>\n",
       "      <td>Male</td>\n",
       "      <td>35</td>\n",
       "      <td>20000</td>\n",
       "      <td>0</td>\n",
       "    </tr>\n",
       "    <tr>\n",
       "      <th>2</th>\n",
       "      <td>15668575</td>\n",
       "      <td>Female</td>\n",
       "      <td>26</td>\n",
       "      <td>43000</td>\n",
       "      <td>0</td>\n",
       "    </tr>\n",
       "    <tr>\n",
       "      <th>3</th>\n",
       "      <td>15603246</td>\n",
       "      <td>Female</td>\n",
       "      <td>27</td>\n",
       "      <td>57000</td>\n",
       "      <td>0</td>\n",
       "    </tr>\n",
       "    <tr>\n",
       "      <th>4</th>\n",
       "      <td>15804002</td>\n",
       "      <td>Male</td>\n",
       "      <td>19</td>\n",
       "      <td>76000</td>\n",
       "      <td>0</td>\n",
       "    </tr>\n",
       "  </tbody>\n",
       "</table>\n",
       "</div>"
      ],
      "text/plain": [
       "    User ID  Gender  Age  EstimatedSalary  Purchased\n",
       "0  15624510    Male   19            19000          0\n",
       "1  15810944    Male   35            20000          0\n",
       "2  15668575  Female   26            43000          0\n",
       "3  15603246  Female   27            57000          0\n",
       "4  15804002    Male   19            76000          0"
      ]
     },
     "execution_count": 1,
     "metadata": {},
     "output_type": "execute_result"
    }
   ],
   "source": [
    "# Importing Libraries\n",
    "import numpy as np\n",
    "import matplotlib.pyplot as plt\n",
    "import pandas as pd\n",
    "\n",
    "# Importing the dataset\n",
    "dataset = pd.read_csv('Social_Network_Ads.csv')\n",
    "dataset.head()"
   ]
  },
  {
   "cell_type": "code",
   "execution_count": 2,
   "metadata": {},
   "outputs": [],
   "source": [
    "X = dataset.iloc[:, [2,3]].values # X must be a matrix\n",
    "y = dataset.iloc[:, 4].values # y must be a vector"
   ]
  },
  {
   "cell_type": "code",
   "execution_count": 3,
   "metadata": {},
   "outputs": [],
   "source": [
    "# Splitting into training and test sets\n",
    "# Use for larger data sets\n",
    "from sklearn.model_selection import train_test_split\n",
    "X_train, X_test, y_train, y_test = train_test_split(X, y, test_size = .25, random_state = 0)"
   ]
  },
  {
   "cell_type": "code",
   "execution_count": 4,
   "metadata": {},
   "outputs": [
    {
     "name": "stderr",
     "output_type": "stream",
     "text": [
      "C:\\Users\\barbe\\AppData\\Local\\Continuum\\anaconda3\\envs\\PythonData\\lib\\site-packages\\sklearn\\utils\\validation.py:595: DataConversionWarning: Data with input dtype int64 was converted to float64 by StandardScaler.\n",
      "  warnings.warn(msg, DataConversionWarning)\n",
      "C:\\Users\\barbe\\AppData\\Local\\Continuum\\anaconda3\\envs\\PythonData\\lib\\site-packages\\sklearn\\utils\\validation.py:595: DataConversionWarning: Data with input dtype int64 was converted to float64 by StandardScaler.\n",
      "  warnings.warn(msg, DataConversionWarning)\n",
      "C:\\Users\\barbe\\AppData\\Local\\Continuum\\anaconda3\\envs\\PythonData\\lib\\site-packages\\sklearn\\utils\\validation.py:595: DataConversionWarning: Data with input dtype int64 was converted to float64 by StandardScaler.\n",
      "  warnings.warn(msg, DataConversionWarning)\n"
     ]
    }
   ],
   "source": [
    "# feature scaling\n",
    "from sklearn.preprocessing import StandardScaler\n",
    "sc_X = StandardScaler()\n",
    "X_train = sc_X.fit_transform(X_train)\n",
    "X_test = sc_X.transform(X_test)"
   ]
  },
  {
   "cell_type": "code",
   "execution_count": 5,
   "metadata": {},
   "outputs": [
    {
     "name": "stderr",
     "output_type": "stream",
     "text": [
      "C:\\Users\\barbe\\AppData\\Local\\Continuum\\anaconda3\\envs\\PythonData\\lib\\site-packages\\sklearn\\linear_model\\logistic.py:433: FutureWarning: Default solver will be changed to 'lbfgs' in 0.22. Specify a solver to silence this warning.\n",
      "  FutureWarning)\n"
     ]
    },
    {
     "data": {
      "text/plain": [
       "LogisticRegression(C=1.0, class_weight=None, dual=False, fit_intercept=True,\n",
       "          intercept_scaling=1, max_iter=100, multi_class='warn',\n",
       "          n_jobs=None, penalty='l2', random_state=0, solver='warn',\n",
       "          tol=0.0001, verbose=0, warm_start=False)"
      ]
     },
     "execution_count": 5,
     "metadata": {},
     "output_type": "execute_result"
    }
   ],
   "source": [
    "# Fitting Regression Model to the dataset\n",
    "# Create the regressor here\n",
    "from sklearn.linear_model import LogisticRegression\n",
    "classifier = LogisticRegression(random_state = 0)\n",
    "classifier.fit(X_train,y_train)"
   ]
  },
  {
   "cell_type": "code",
   "execution_count": 6,
   "metadata": {},
   "outputs": [],
   "source": [
    "# predicting the new result with regression\n",
    "\n",
    "y_pred = classifier.predict(X_test)"
   ]
  },
  {
   "cell_type": "code",
   "execution_count": 7,
   "metadata": {},
   "outputs": [
    {
     "data": {
      "text/plain": [
       "array([0, 0, 0, 0, 0, 0, 0, 1, 0, 1, 0, 0, 0, 0, 0, 0, 0, 0, 1, 0, 0, 1,\n",
       "       0, 1, 0, 1, 0, 0, 0, 0, 0, 0, 1, 0, 0, 0, 0, 0, 0, 1, 0, 0, 0, 0,\n",
       "       1, 0, 0, 1, 0, 1, 1, 0, 0, 0, 1, 0, 0, 0, 0, 0, 0, 1, 0, 0, 0, 1,\n",
       "       0, 0, 0, 0, 1, 0, 0, 0, 0, 0, 1, 0, 1, 1, 1, 1, 0, 0, 1, 1, 0, 1,\n",
       "       0, 0, 0, 1, 0, 0, 0, 0, 0, 0, 1, 1], dtype=int64)"
      ]
     },
     "execution_count": 7,
     "metadata": {},
     "output_type": "execute_result"
    }
   ],
   "source": [
    "y_pred"
   ]
  },
  {
   "cell_type": "code",
   "execution_count": 8,
   "metadata": {},
   "outputs": [
    {
     "data": {
      "text/plain": [
       "array([[-0.80480212,  0.50496393],\n",
       "       [-0.01254409, -0.5677824 ],\n",
       "       [-0.30964085,  0.1570462 ],\n",
       "       [-0.80480212,  0.27301877],\n",
       "       [-0.30964085, -0.5677824 ],\n",
       "       [-1.10189888, -1.43757673],\n",
       "       [-0.70576986, -1.58254245],\n",
       "       [-0.21060859,  2.15757314],\n",
       "       [-1.99318916, -0.04590581],\n",
       "       [ 0.8787462 , -0.77073441],\n",
       "       [-0.80480212, -0.59677555],\n",
       "       [-1.00286662, -0.42281668],\n",
       "       [-0.11157634, -0.42281668],\n",
       "       [ 0.08648817,  0.21503249],\n",
       "       [-1.79512465,  0.47597078],\n",
       "       [-0.60673761,  1.37475825],\n",
       "       [-0.11157634,  0.21503249],\n",
       "       [-1.89415691,  0.44697764],\n",
       "       [ 1.67100423,  1.75166912],\n",
       "       [-0.30964085, -1.37959044],\n",
       "       [-0.30964085, -0.65476184],\n",
       "       [ 0.8787462 ,  2.15757314],\n",
       "       [ 0.28455268, -0.53878926],\n",
       "       [ 0.8787462 ,  1.02684052],\n",
       "       [-1.49802789, -1.20563157],\n",
       "       [ 1.07681071,  2.07059371],\n",
       "       [-1.00286662,  0.50496393],\n",
       "       [-0.90383437,  0.30201192],\n",
       "       [-0.11157634, -0.21986468],\n",
       "       [-0.60673761,  0.47597078],\n",
       "       [-1.6960924 ,  0.53395707],\n",
       "       [-0.11157634,  0.27301877],\n",
       "       [ 1.86906873, -0.27785096],\n",
       "       [-0.11157634, -0.48080297],\n",
       "       [-1.39899564, -0.33583725],\n",
       "       [-1.99318916, -0.50979612],\n",
       "       [-1.59706014,  0.33100506],\n",
       "       [-0.4086731 , -0.77073441],\n",
       "       [-0.70576986, -1.03167271],\n",
       "       [ 1.07681071, -0.97368642],\n",
       "       [-1.10189888,  0.53395707],\n",
       "       [ 0.28455268, -0.50979612],\n",
       "       [-1.10189888,  0.41798449],\n",
       "       [-0.30964085, -1.43757673],\n",
       "       [ 0.48261718,  1.22979253],\n",
       "       [-1.10189888, -0.33583725],\n",
       "       [-0.11157634,  0.30201192],\n",
       "       [ 1.37390747,  0.59194336],\n",
       "       [-1.20093113, -1.14764529],\n",
       "       [ 1.07681071,  0.47597078],\n",
       "       [ 1.86906873,  1.51972397],\n",
       "       [-0.4086731 , -1.29261101],\n",
       "       [-0.30964085, -0.3648304 ],\n",
       "       [-0.4086731 ,  1.31677196],\n",
       "       [ 2.06713324,  0.53395707],\n",
       "       [ 0.68068169, -1.089659  ],\n",
       "       [-0.90383437,  0.38899135],\n",
       "       [-1.20093113,  0.30201192],\n",
       "       [ 1.07681071, -1.20563157],\n",
       "       [-1.49802789, -1.43757673],\n",
       "       [-0.60673761, -1.49556302],\n",
       "       [ 2.1661655 , -0.79972756],\n",
       "       [-1.89415691,  0.18603934],\n",
       "       [-0.21060859,  0.85288166],\n",
       "       [-1.89415691, -1.26361786],\n",
       "       [ 2.1661655 ,  0.38899135],\n",
       "       [-1.39899564,  0.56295021],\n",
       "       [-1.10189888, -0.33583725],\n",
       "       [ 0.18552042, -0.65476184],\n",
       "       [ 0.38358493,  0.01208048],\n",
       "       [-0.60673761,  2.331532  ],\n",
       "       [-0.30964085,  0.21503249],\n",
       "       [-1.59706014, -0.19087153],\n",
       "       [ 0.68068169, -1.37959044],\n",
       "       [-1.10189888,  0.56295021],\n",
       "       [-1.99318916,  0.35999821],\n",
       "       [ 0.38358493,  0.27301877],\n",
       "       [ 0.18552042, -0.27785096],\n",
       "       [ 1.47293972, -1.03167271],\n",
       "       [ 0.8787462 ,  1.08482681],\n",
       "       [ 1.96810099,  2.15757314],\n",
       "       [ 2.06713324,  0.38899135],\n",
       "       [-1.39899564, -0.42281668],\n",
       "       [-1.20093113, -1.00267957],\n",
       "       [ 1.96810099, -0.91570013],\n",
       "       [ 0.38358493,  0.30201192],\n",
       "       [ 0.18552042,  0.1570462 ],\n",
       "       [ 2.06713324,  1.75166912],\n",
       "       [ 0.77971394, -0.8287207 ],\n",
       "       [ 0.28455268, -0.27785096],\n",
       "       [ 0.38358493, -0.16187839],\n",
       "       [-0.11157634,  2.21555943],\n",
       "       [-1.49802789, -0.62576869],\n",
       "       [-1.29996338, -1.06066585],\n",
       "       [-1.39899564,  0.41798449],\n",
       "       [-1.10189888,  0.76590222],\n",
       "       [-1.49802789, -0.19087153],\n",
       "       [ 0.97777845, -1.06066585],\n",
       "       [ 0.97777845,  0.59194336],\n",
       "       [ 0.38358493,  0.99784738]])"
      ]
     },
     "execution_count": 8,
     "metadata": {},
     "output_type": "execute_result"
    }
   ],
   "source": [
    "X_test"
   ]
  },
  {
   "cell_type": "code",
   "execution_count": 9,
   "metadata": {},
   "outputs": [
    {
     "data": {
      "text/plain": [
       "array([[65,  3],\n",
       "       [ 8, 24]], dtype=int64)"
      ]
     },
     "execution_count": 9,
     "metadata": {},
     "output_type": "execute_result"
    }
   ],
   "source": [
    "# Making the Confusion Matrix\n",
    "from sklearn.metrics import confusion_matrix\n",
    "cm = confusion_matrix(y_test, y_pred)\n",
    "cm"
   ]
  },
  {
   "cell_type": "code",
   "execution_count": 12,
   "metadata": {},
   "outputs": [
    {
     "name": "stderr",
     "output_type": "stream",
     "text": [
      "'c' argument looks like a single numeric RGB or RGBA sequence, which should be avoided as value-mapping will have precedence in case its length matches with 'x' & 'y'.  Please use a 2-D array with a single row if you really want to specify the same RGB or RGBA value for all points.\n",
      "'c' argument looks like a single numeric RGB or RGBA sequence, which should be avoided as value-mapping will have precedence in case its length matches with 'x' & 'y'.  Please use a 2-D array with a single row if you really want to specify the same RGB or RGBA value for all points.\n"
     ]
    },
    {
     "data": {
      "image/png": "[encoded data removed]",
      "text/plain": [
       "<Figure size 432x288 with 1 Axes>"
      ]
     },
     "metadata": {
      "needs_background": "light"
     },
     "output_type": "display_data"
    }
   ],
   "source": [
    "# Visualising the Training set results\n",
    "from matplotlib.colors import ListedColormap\n",
    "X_set, y_set = X_train, y_train\n",
    "X1, X2 = np.meshgrid(np.arange(start = X_set[:, 0].min() -1, stop = X_set[:, 0].max() + 1, step = .01),\n",
    "                    np.arange(start = X_set[:, 1].min() -1, stop = X_set[:, 1].max() + 1, step = .01))\n",
    "plt.contourf(X1, X2, classifier.predict(np.array([X1.ravel(), X2.ravel()]).T).reshape(X1.shape),\n",
    "             alpha = .75, cmap = ListedColormap(('red', 'green')))\n",
    "plt.xlim(X1.min(), X1.max())\n",
    "plt.ylim(X2.min(), X2.max())\n",
    "for i, j in enumerate(np.unique(y_set)):\n",
    "    plt.scatter(X_set[y_set == j, 0], X_set[y_set == j, 1],\n",
    "               c = ListedColormap(('red', 'green'))(i), label = j, edgecolors = \"black\", s = 20)\n",
    "plt.title(\"Logistic Regression (Training set)\")\n",
    "plt.xlabel(\"Age\")\n",
    "plt.ylabel(\"Estimated Salary\")\n",
    "plt.legend()\n",
    "plt.show()"
   ]
  },
  {
   "cell_type": "code",
   "execution_count": 13,
   "metadata": {},
   "outputs": [
    {
     "name": "stderr",
     "output_type": "stream",
     "text": [
      "'c' argument looks like a single numeric RGB or RGBA sequence, which should be avoided as value-mapping will have precedence in case its length matches with 'x' & 'y'.  Please use a 2-D array with a single row if you really want to specify the same RGB or RGBA value for all points.\n",
      "'c' argument looks like a single numeric RGB or RGBA sequence, which should be avoided as value-mapping will have precedence in case its length matches with 'x' & 'y'.  Please use a 2-D array with a single row if you really want to specify the same RGB or RGBA value for all points.\n"
     ]
    },
    {
     "data": {
      "image/png": "[encoded data removed]",
      "text/plain": [
       "<Figure size 432x288 with 1 Axes>"
      ]
     },
     "metadata": {
      "needs_background": "light"
     },
     "output_type": "display_data"
    }
   ],
   "source": [
    "# Visualising the Test set results\n",
    "from matplotlib.colors import ListedColormap\n",
    "X_set, y_set = X_test, y_test\n",
    "X1, X2 = np.meshgrid(np.arange(start = X_set[:, 0].min() -1, stop = X_set[:, 0].max() + 1, step = .01),\n",
    "                    np.arange(start = X_set[:, 1].min() -1, stop = X_set[:, 1].max() + 1, step = .01))\n",
    "plt.contourf(X1, X2, classifier.predict(np.array([X1.ravel(), X2.ravel()]).T).reshape(X1.shape),\n",
    "             alpha = .75, cmap = ListedColormap(('red', 'green')))\n",
    "plt.xlim(X1.min(), X1.max())\n",
    "plt.ylim(X2.min(), X2.max())\n",
    "for i, j in enumerate(np.unique(y_set)):\n",
    "    plt.scatter(X_set[y_set == j, 0], X_set[y_set == j, 1],\n",
    "               c = ListedColormap(('red', 'green'))(i), label = j, edgecolors = \"black\", s = 20)\n",
    "plt.title(\"Logistic Regression (Test set)\")\n",
    "plt.xlabel(\"Age\")\n",
    "plt.ylabel(\"Estimated Salary\")\n",
    "plt.legend()\n",
    "plt.show()"
   ]
  },
  {
   "cell_type": "code",
   "execution_count": null,
   "metadata": {},
   "outputs": [],
   "source": []
  }
 ],
 "metadata": {
  "kernelspec": {
   "display_name": "Python 3",
   "language": "python",
   "name": "python3"
  },
  "language_info": {
   "codemirror_mode": {
    "name": "ipython",
    "version": 3
   },
   "file_extension": ".py",
   "mimetype": "text/x-python",
   "name": "python",
   "nbconvert_exporter": "python",
   "pygments_lexer": "ipython3",
   "version": "3.6.8"
  }
 },
 "nbformat": 4,
 "nbformat_minor": 2
}
